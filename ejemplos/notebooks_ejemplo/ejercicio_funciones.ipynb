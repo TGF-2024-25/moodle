{
  "cells": [
    {
      "cell_type": "markdown",
      "metadata": {},
      "source": [
        "# Ejercicio - Funciones Básicas en Python\n",
        "## Curso: Programación Python\n",
        "\n",
        "Complete las siguientes funciones según las especificaciones."
      ]
    },
    {
      "cell_type": "markdown",
      "metadata": {},
      "source": [
        "### Ejercicio 1: Suma de elementos\n",
        "Escriba una función que reciba una lista de números y devuelva la suma de todos los elementos."
      ]
    },
    {
      "cell_type": "code",
      "execution_count": null,
      "metadata": {},
      "outputs": [],
      "source": [
        "def suma_lista(numeros):\n",
        "    \"\"\"\n",
        "    Calcula la suma de todos los elementos en una lista.\n",
        "    \n",
        "    Args:\n",
        "        numeros (list): Lista de números\n",
        "        \n",
        "    Returns:\n",
        "        float: Suma de todos los elementos\n",
        "    \"\"\"\n",
        "    # TODO: Implementar la función\n",
        "    pass"
      ]
    },
    {
      "cell_type": "markdown",
      "metadata": {},
      "source": [
        "### Ejercicio 2: Encontrar máximo\n",
        "Escriba una función que encuentre el valor máximo en una lista de números."
      ]
    },
    {
      "cell_type": "code",
      "execution_count": null,
      "metadata": {},
      "outputs": [],
      "source": [
        "def encontrar_maximo(numeros):\n",
        "    \"\"\"\n",
        "    Encuentra el valor máximo en una lista.\n",
        "    \n",
        "    Args:\n",
        "        numeros (list): Lista de números\n",
        "        \n",
        "    Returns:\n",
        "        float: Valor máximo de la lista\n",
        "    \"\"\"\n",
        "    # TODO: Implementar la función\n",
        "    pass"
      ]
    },
    {
      "cell_type": "markdown",
      "metadata": {},
      "source": [
        "### Ejercicio 3: Contar vocales\n",
        "Escriba una función que cuente el número de vocales en una cadena de texto."
      ]
    },
    {
      "cell_type": "code",
      "execution_count": null,
      "metadata": {},
      "outputs": [],
      "source": [
        "def contar_vocales(texto):\n",
        "    \"\"\"\n",
        "    Cuenta el número de vocales en un texto.\n",
        "    \n",
        "    Args:\n",
        "        texto (str): Cadena de texto\n",
        "        \n",
        "    Returns:\n",
        "        int: Número de vocales en el texto\n",
        "    \"\"\"\n",
        "    # TODO: Implementar la función\n",
        "    pass"
      ]
    },
    {
      "cell_type": "markdown",
      "metadata": {},
      "source": [
        "### Tests de verificación\n",
        "Las siguientes celdas verifican que las funciones funcionen correctamente."
      ]
    },
    {
      "cell_type": "code",
      "execution_count": null,
      "metadata": {},
      "outputs": [],
      "source": [
        "# Tests para suma_lista\n",
        "assert suma_lista([1, 2, 3, 4, 5]) == 15\n",
        "assert suma_lista([-1, 0, 1]) == 0\n",
        "assert suma_lista([10, 20, 30]) == 60\n",
        "print(\"✓ Tests de suma_lista pasados\")"
      ]
    },
    {
      "cell_type": "code",
      "execution_count": null,
      "metadata": {},
      "outputs": [],
      "source": [
        "# Tests para encontrar_maximo\n",
        "assert encontrar_maximo([1, 5, 3, 9, 2]) == 9\n",
        "assert encontrar_maximo([-5, -2, -10]) == -2\n",
        "assert encontrar_maximo([100]) == 100\n",
        "print(\"✓ Tests de encontrar_maximo pasados\")"
      ]
    },
    {
      "cell_type": "code",
      "execution_count": null,
      "metadata": {},
      "outputs": [],
      "source": [
        "# Tests para contar_vocales\n",
        "assert contar_vocales(\"Hola Mundo\") == 4\n",
        "assert contar_vocales(\"Python\") == 1\n",
        "assert contar_vocales(\"AEIOUaeiou\") == 10\n",
        "assert contar_vocales(\"BCD\") == 0\n",
        "print(\"✓ Tests de contar_vocales pasados\")"
      ]
    },
    {
      "cell_type": "markdown",
      "metadata": {},
      "source": [
        "¡Todos los tests pasaron! Ejercicio completado correctamente."
      ]
    }
  ],
  "metadata": {
    "kernelspec": {
      "display_name": "Python 3",
      "language": "python",
      "name": "python3"
    },
    "language_info": {
      "name": "python",
      "version": "3.8.10"
    }
  },
  "nbformat": 4,
  "nbformat_minor": 4
}