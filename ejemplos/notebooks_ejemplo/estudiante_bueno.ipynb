{
  "cells": [
    {
      "cell_type": "markdown",
      "metadata": {},
      "source": [
        "# Ejercicio - Funciones Básicas en Python\n",
        "## Curso: Programación Python\n",
        "\n",
        "Complete las siguientes funciones según las especificaciones."
      ]
    },
    {
      "cell_type": "code",
      "execution_count": null,
      "metadata": {},
      "outputs": [],
      "source": [
        "def suma_lista(numeros):\n",
        "    total = 0\n",
        "    for num in numeros:\n",
        "        total += num\n",
        "    return total"
      ]
    },
    {
      "cell_type": "code",
      "execution_count": null,
      "metadata": {},
      "outputs": [],
      "source": [
        "def encontrar_maximo(numeros):\n",
        "    if not numeros:\n",
        "        return None\n",
        "    max_valor = numeros[0]\n",
        "    for num in numeros:\n",
        "        if num > max_valor:\n",
        "            max_valor = num\n",
        "    return max_valor"
      ]
    },
    {
      "cell_type": "code",
      "execution_count": null,
      "metadata": {},
      "outputs": [],
      "source": [
        "def contar_vocales(texto):\n",
        "    vocales = \"aeiouAEIOU\"\n",
        "    contador = 0\n",
        "    for char in texto:\n",
        "        if char in vocales:\n",
        "            contador += 1\n",
        "    return contador"
      ]
    },
    {
      "cell_type": "code",
      "execution_count": null,
      "metadata": {},
      "outputs": [],
      "source": [
        "# Tests para suma_lista\n",
        "assert suma_lista([1, 2, 3, 4, 5]) == 15\n",
        "assert suma_lista([-1, 0, 1]) == 0\n",
        "assert suma_lista([10, 20, 30]) == 60\n",
        "print(\"✓ Tests de suma_lista pasados\")"
      ]
    },
    {
      "cell_type": "code",
      "execution_count": null,
      "metadata": {},
      "outputs": [],
      "source": [
        "# Tests para encontrar_maximo\n",
        "assert encontrar_maximo([1, 5, 3, 9, 2]) == 9\n",
        "assert encontrar_maximo([-5, -2, -10]) == -2\n",
        "assert encontrar_maximo([100]) == 100\n",
        "print(\"✓ Tests de encontrar_maximo pasados\")"
      ]
    },
    {
      "cell_type": "code",
      "execution_count": null,
      "metadata": {},
      "outputs": [],
      "source": [
        "# Tests para contar_vocales\n",
        "assert contar_vocales(\"Hola Mundo\") == 4\n",
        "assert contar_vocales(\"Python\") == 1\n",
        "assert contar_vocales(\"AEIOUaeiou\") == 10\n",
        "assert contar_vocales(\"BCD\") == 0\n",
        "print(\"✓ Tests de contar_vocales pasados\")"
      ]
    }
  ],
  "metadata": {
    "kernelspec": {
      "display_name": "Python 3",
      "language": "python",
      "name": "python3"
    },
    "language_info": {
      "name": "python",
      "version": "3.8.10"
    }
  },
  "nbformat": 4,
  "nbformat_minor": 4
}