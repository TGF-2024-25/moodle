{
 "cells": [
  {
   "cell_type": "markdown",
   "id": "28e39fe7",
   "metadata": {},
   "source": [
    "## Parte A (2 puntos)\n",
    "Implementa una función que devuelva una lista con los cuadrados de los números del 1 al n."
   ]
  },
  {
   "cell_type": "code",
   "execution_count": null,
   "id": "8e0b5507",
   "metadata": {},
   "outputs": [],
   "source": [
    "def cuadrados(n):\n",
    "    if n < 1:\n",
    "        raise ValueError(\"n debe ser mayor o igual que 1\")\n",
    "    return [i**2 for i in range(1, n+1)]"
   ]
  },
  {
   "cell_type": "markdown",
   "id": "3d5b3e2d",
   "metadata": {},
   "source": [
    "## Parte B (1 punto)\n",
    "Implementa una función que calcule la suma de cuadrados usando la función anterior."
   ]
  },
  {
   "cell_type": "code",
   "execution_count": null,
   "id": "77801b91",
   "metadata": {},
   "outputs": [],
   "source": [
    "def suma_de_cuadrados(n):\n",
    "    return sum(cuadrados(n))"
   ]
  },
  {
   "cell_type": "markdown",
   "id": "5cadeb48",
   "metadata": {},
   "source": [
    "## Parte C (1 punto)\n",
    "Escribe la ecuación implementada por `suma_de_cuadrados` usando notación LaTeX."
   ]
  },
  {
   "cell_type": "markdown",
   "id": "8504711c",
   "metadata": {},
   "source": [
    "La fórmula implementada es: \n",
    "\\[ \\sum_{i=1}^{n} i^2 = \\frac{n(n+1)(2n+1)}{6} \\]"
   ]
  },
  {
   "cell_type": "markdown",
   "id": "1cb78531",
   "metadata": {},
   "source": [
    "## Parte D (2 puntos)\n",
    "Implementa un caso de uso de `suma_de_cuadrados`."
   ]
  },
  {
   "cell_type": "code",
   "execution_count": null,
   "id": "f7c50c9d",
   "metadata": {},
   "outputs": [],
   "source": [
    "def numero_piramidal(n):\n",
    "    '''Devuelve el n-ésimo número piramidal.'''\n",
    "    return suma_de_cuadrados(n)"
   ]
  },
  {
   "cell_type": "markdown",
   "id": "18e1fc81",
   "metadata": {},
   "source": [
    "## Parte E (4 puntos)\n",
    "Verifica las fórmulas de sumas aritméticas y geométricas."
   ]
  },
  {
   "cell_type": "code",
   "execution_count": null,
   "id": "e7625f10",
   "metadata": {},
   "outputs": [],
   "source": [
    "# Suma aritmética de 1 a n\n",
    "def suma_aritmetica(n):\n",
    "    return n * (n + 1) // 2\n",
    "\n",
    "print(suma_aritmetica(100))  # 5050\n",
    "\n",
    "# Suma geométrica de 1 + 2 + 4 + ... + 2^n\n",
    "def suma_geometrica(n):\n",
    "    return 2**(n + 1) - 1\n",
    "\n",
    "print(suma_geometrica(4))  # 31"
   ]
  }
 ],
 "metadata": {},
 "nbformat": 4,
 "nbformat_minor": 5
}
