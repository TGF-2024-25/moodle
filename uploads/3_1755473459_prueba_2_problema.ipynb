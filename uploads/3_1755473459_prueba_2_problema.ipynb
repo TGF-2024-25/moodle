{
 "cells": [
  {
   "cell_type": "code",
   "execution_count": null,
   "id": "1710a482",
   "metadata": {
    "nbgrader": {
     "grade": true,
     "grade_id": "squares",
     "locked": false,
     "points": 1,
     "schema_version": 3,
     "solution": true
    }
   },
   "outputs": [],
   "source": [
    "def squares(n):\n",
    "    if n < 1:\n",
    "        raise ValueError(\"n debe ser mayor o igual que 1\")\n",
    "    return [i**2 for i in range(1, n+1)]"
   ]
  },
  {
   "cell_type": "code",
   "execution_count": null,
   "id": "3c5cbdf1",
   "metadata": {
    "nbgrader": {
     "grade": true,
     "grade_id": "sum_of_squares",
     "locked": false,
     "points": 1,
     "schema_version": 3,
     "solution": true
    }
   },
   "outputs": [],
   "source": [
    "def sum_of_squares(n):\n",
    "    return sum(squares(n))"
   ]
  },
  {
   "cell_type": "code",
   "execution_count": null,
   "id": "ba458c2a",
   "metadata": {
    "nbgrader": {
     "grade": true,
     "grade_id": "correct_squares",
     "locked": true,
     "points": 1,
     "schema_version": 3,
     "solution": false
    }
   },
   "outputs": [],
   "source": [
    "assert squares(1) == [1]\n",
    "assert squares(3) == [1, 4, 9]"
   ]
  },
  {
   "cell_type": "code",
   "execution_count": null,
   "id": "7119c783",
   "metadata": {
    "nbgrader": {
     "grade": true,
     "grade_id": "squares_invalid_input",
     "locked": true,
     "points": 1,
     "schema_version": 3,
     "solution": false
    }
   },
   "outputs": [],
   "source": [
    "try:\n",
    "    squares(0)\n",
    "except ValueError:\n",
    "    pass\n",
    "else:\n",
    "    raise AssertionError(\"No lanzó ValueError con n=0\")"
   ]
  },
  {
   "cell_type": "code",
   "execution_count": null,
   "id": "3a5097f9",
   "metadata": {
    "nbgrader": {
     "grade": true,
     "grade_id": "correct_sum_of_squares",
     "locked": true,
     "points": 0.5,
     "schema_version": 3,
     "solution": false
    }
   },
   "outputs": [],
   "source": [
    "assert sum_of_squares(1) == 1\n",
    "assert sum_of_squares(2) == 5\n",
    "assert sum_of_squares(3) == 14"
   ]
  },
  {
   "cell_type": "code",
   "execution_count": null,
   "id": "1f1651fd",
   "metadata": {
    "nbgrader": {
     "grade": true,
     "grade_id": "sum_of_squares_uses_squares",
     "locked": true,
     "points": 0.5,
     "schema_version": 3,
     "solution": false
    }
   },
   "outputs": [],
   "source": [
    "orig_squares = squares\n",
    "del squares\n",
    "try:\n",
    "    sum_of_squares(1)\n",
    "except NameError:\n",
    "    pass\n",
    "else:\n",
    "    raise AssertionError(\"sum_of_squares no usa squares\")\n",
    "finally:\n",
    "    squares = orig_squares"
   ]
  },
  {
   "cell_type": "markdown",
   "id": "4147762e",
   "metadata": {
    "nbgrader": {
     "grade": true,
     "grade_id": "sum_of_squares_equation",
     "locked": false,
     "points": 1,
     "schema_version": 3,
     "solution": true
    }
   },
   "source": [
    "$$\\sum_{i=1}^n i^2 = \\frac{n(n+1)(2n+1)}{6}$$"
   ]
  },
  {
   "cell_type": "code",
   "execution_count": null,
   "id": "370233c5",
   "metadata": {
    "nbgrader": {
     "grade": true,
     "grade_id": "sum_of_squares_application",
     "locked": false,
     "points": 2,
     "schema_version": 3,
     "solution": true
    }
   },
   "outputs": [],
   "source": [
    "def numero_piramidal(n):\n",
    "    return sum_of_squares(n * 2)"
   ]
  }
 ],
 "metadata": {
  "language_info": {
   "name": "python"
  }
 },
 "nbformat": 4,
 "nbformat_minor": 5
}
