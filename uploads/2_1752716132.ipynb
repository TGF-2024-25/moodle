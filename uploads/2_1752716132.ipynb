{
 "cells": [
  {
   "cell_type": "markdown",
   "id": "28e39fe7",
   "metadata": {},
   "source": [
    "## Parte A (2 puntos)\n",
    "Implementa una función que devuelva una lista con los cuadrados de los números del 1 al n."
   ]
  },
  {
   "cell_type": "code",
   "execution_count": 1,
   "id": "8e0b5507",
   "metadata": {
    "execution": {
     "iopub.execute_input": "2025-07-07T22:46:44.613571Z",
     "iopub.status.busy": "2025-07-07T22:46:44.612058Z",
     "iopub.status.idle": "2025-07-07T22:46:44.628615Z",
     "shell.execute_reply": "2025-07-07T22:46:44.626328Z"
    }
   },
   "outputs": [],
   "source": [
    "def cuadrados(n):\n",
    "    if n < 1:\n",
    "        raise ValueError(\"n debe ser mayor o igual que 1\")\n",
    "    return [i**2 for i in range(1, n+1)]"
   ]
  },
  {
   "cell_type": "markdown",
   "id": "3d5b3e2d",
   "metadata": {},
   "source": [
    "## Parte B (1 punto)\n",
    "Implementa una función que calcule la suma de cuadrados usando la función anterior."
   ]
  },
  {
   "cell_type": "code",
   "execution_count": 2,
   "id": "77801b91",
   "metadata": {
    "execution": {
     "iopub.execute_input": "2025-07-07T22:46:44.634914Z",
     "iopub.status.busy": "2025-07-07T22:46:44.633953Z",
     "iopub.status.idle": "2025-07-07T22:46:44.639647Z",
     "shell.execute_reply": "2025-07-07T22:46:44.638692Z"
    }
   },
   "outputs": [],
   "source": [
    "def suma_de_cuadrados(n):\n",
    "    return sum(cuadrados(n))"
   ]
  },
  {
   "cell_type": "markdown",
   "id": "5cadeb48",
   "metadata": {},
   "source": [
    "## Parte C (1 punto)\n",
    "Escribe la ecuación implementada por `suma_de_cuadrados` usando notación LaTeX."
   ]
  },
  {
   "cell_type": "markdown",
   "id": "8504711c",
   "metadata": {},
   "source": [
    "La fórmula implementada es: \n",
    "\\[ \\sum_{i=1}^{n} i^2 = \\frac{n(n+1)(2n+1)}{6} \\]"
   ]
  },
  {
   "cell_type": "markdown",
   "id": "1cb78531",
   "metadata": {},
   "source": [
    "## Parte D (2 puntos)\n",
    "Implementa un caso de uso de `suma_de_cuadrados`."
   ]
  },
  {
   "cell_type": "code",
   "execution_count": 3,
   "id": "f7c50c9d",
   "metadata": {
    "execution": {
     "iopub.execute_input": "2025-07-07T22:46:44.652832Z",
     "iopub.status.busy": "2025-07-07T22:46:44.648392Z",
     "iopub.status.idle": "2025-07-07T22:46:44.659449Z",
     "shell.execute_reply": "2025-07-07T22:46:44.658030Z"
    }
   },
   "outputs": [],
   "source": [
    "def numero_piramidal(n):\n",
    "    '''Devuelve el n-ésimo número piramidal.'''\n",
    "    return suma_de_cuadrados(n)"
   ]
  },
  {
   "cell_type": "markdown",
   "id": "18e1fc81",
   "metadata": {},
   "source": [
    "## Parte E (4 puntos)\n",
    "Verifica las fórmulas de sumas aritméticas y geométricas."
   ]
  },
  {
   "cell_type": "code",
   "execution_count": 4,
   "id": "e7625f10",
   "metadata": {
    "execution": {
     "iopub.execute_input": "2025-07-07T22:46:44.670715Z",
     "iopub.status.busy": "2025-07-07T22:46:44.667150Z",
     "iopub.status.idle": "2025-07-07T22:46:44.685882Z",
     "shell.execute_reply": "2025-07-07T22:46:44.684763Z"
    }
   },
   "outputs": [
    {
     "name": "stdout",
     "output_type": "stream",
     "text": [
      "5050\n",
      "31\n"
     ]
    }
   ],
   "source": [
    "# Suma aritmética de 1 a n\n",
    "def suma_aritmetica(n):\n",
    "    return n * (n + 1) // 2\n",
    "\n",
    "print(suma_aritmetica(100))  # 5050\n",
    "\n",
    "# Suma geométrica de 1 + 2 + 4 + ... + 2^n\n",
    "def suma_geometrica(n):\n",
    "    return 2**(n + 1) - 1\n",
    "\n",
    "print(suma_geometrica(4))  # 31"
   ]
  }
 ],
 "metadata": {
  "kernelspec": {
   "display_name": "Python 3 (ipykernel)",
   "language": "python",
   "name": "python3"
  },
  "language_info": {
   "codemirror_mode": {
    "name": "ipython",
    "version": 3
   },
   "file_extension": ".py",
   "mimetype": "text/x-python",
   "name": "python",
   "nbconvert_exporter": "python",
   "pygments_lexer": "ipython3",
   "version": "3.8.10"
  }
 },
 "nbformat": 4,
 "nbformat_minor": 5
}
