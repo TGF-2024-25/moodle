{
 "cells": [
  {
   "cell_type": "code",
   "execution_count": null,
   "id": "38f15e60",
   "metadata": {
    "vscode": {
     "languageId": "plaintext"
    }
   },
   "outputs": [],
   "source": [
    "{\n",
    " \"cells\": [\n",
    "  {\n",
    "   \"cell_type\": \"code\",\n",
    "   \"execution_count\": null,\n",
    "   \"metadata\": {\n",
    "    \"nbgrader\": {\n",
    "     \"grade\": true,\n",
    "     \"grade_id\": \"funcion_1\",\n",
    "     \"points\": 5\n",
    "    }\n",
    "   },\n",
    "   \"outputs\": [],\n",
    "   \"source\": [\n",
    "    \"def multiplicar(a, b):\\n\",\n",
    "    \"    \\\"\\\"\\\"Multiplica dos números\\\"\\\"\\\"\\n\",\n",
    "    \"    return a * b  # Correcto\\n\",\n",
    "    \"\\n\",\n",
    "    \"# Tests\\n\",\n",
    "    \"assert multiplicar(2, 3) == 6\\n\",\n",
    "    \"assert multiplicar(0, 5) == 0\"\n",
    "   ]\n",
    "  },\n",
    "  {\n",
    "   \"cell_type\": \"code\",\n",
    "   \"execution_count\": null,\n",
    "   \"metadata\": {\n",
    "    \"nbgrader\": {\n",
    "     \"grade\": true,\n",
    "     \"grade_id\": \"funcion_2\",\n",
    "     \"points\": 5\n",
    "    }\n",
    "   },\n",
    "   \"outputs\": [],\n",
    "   \"source\": [\n",
    "    \"def dividir(a, b):\\n\",\n",
    "    \"    \\\"\\\"\\\"Divide dos números\\\"\\\"\\\"\\n\",\n",
    "    \"    return a / b  # Error: no maneja división por cero\\n\",\n",
    "    \"\\n\",\n",
    "    \"# Tests (varios fallarán)\\n\",\n",
    "    \"assert dividir(10, 2) == 5  # Este pasa\\n\",\n",
    "    \"assert dividir(0, 5) == 0   # Este falla\\n\",\n",
    "    \"assert dividir(5, 0) == 0   # Este falla (división por cero)\"\n",
    "   ]\n",
    "  }\n",
    " ],\n",
    " \"metadata\": {\n",
    "  \"kernelspec\": {\n",
    "   \"display_name\": \"Python 3\",\n",
    "   \"language\": \"python\",\n",
    "   \"name\": \"python3\"\n",
    "  }\n",
    " },\n",
    " \"nbformat\": 4,\n",
    " \"nbformat_minor\": 4\n",
    "}"
   ]
  }
 ],
 "metadata": {
  "language_info": {
   "name": "python"
  }
 },
 "nbformat": 4,
 "nbformat_minor": 5
}
