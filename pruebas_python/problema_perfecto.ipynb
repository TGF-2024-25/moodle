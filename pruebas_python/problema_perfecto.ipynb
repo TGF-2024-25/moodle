{
 "cells": [
  {
   "cell_type": "code",
   "execution_count": null,
   "id": "a581f07c",
   "metadata": {
    "vscode": {
     "languageId": "plaintext"
    }
   },
   "outputs": [],
   "source": [
    "{\n",
    " \"cells\": [\n",
    "  {\n",
    "   \"cell_type\": \"code\",\n",
    "   \"execution_count\": null,\n",
    "   \"metadata\": {\n",
    "    \"nbgrader\": {\n",
    "     \"grade\": true,\n",
    "     \"grade_id\": \"ejercicio_1\",\n",
    "     \"points\": 5\n",
    "    }\n",
    "   },\n",
    "   \"outputs\": [],\n",
    "   \"source\": [\n",
    "    \"def suma(a, b):\\n\",\n",
    "    \"    \\\"\\\"\\\"Suma dos números\\\"\\\"\\\"\\n\",\n",
    "    \"    return a + b\\n\",\n",
    "    \"\\n\",\n",
    "    \"# Tests (deben pasar)\\n\",\n",
    "    \"assert suma(2, 3) == 5\\n\",\n",
    "    \"assert suma(-1, 1) == 0\\n\",\n",
    "    \"assert suma(0, 0) == 0\"\n",
    "   ]\n",
    "  },\n",
    "  {\n",
    "   \"cell_type\": \"code\",\n",
    "   \"execution_count\": null,\n",
    "   \"metadata\": {\n",
    "    \"nbgrader\": {\n",
    "     \"grade\": true,\n",
    "     \"grade_id\": \"ejercicio_2\",\n",
    "     \"points\": 5\n",
    "    }\n",
    "   },\n",
    "   \"outputs\": [],\n",
    "   \"source\": [\n",
    "    \"def factorial(n):\\n\",\n",
    "    \"    \\\"\\\"\\\"Calcula el factorial de un número\\\"\\\"\\\"\\n\",\n",
    "    \"    if n == 0:\\n\",\n",
    "    \"        return 1\\n\",\n",
    "    \"    return n * factorial(n-1)\\n\",\n",
    "    \"\\n\",\n",
    "    \"# Tests\\n\",\n",
    "    \"assert factorial(5) == 120\\n\",\n",
    "    \"assert factorial(0) == 1\\n\",\n",
    "    \"assert factorial(1) == 1\"\n",
    "   ]\n",
    "  }\n",
    " ],\n",
    " \"metadata\": {\n",
    "  \"kernelspec\": {\n",
    "   \"display_name\": \"Python 3\",\n",
    "   \"language\": \"python\",\n",
    "   \"name\": \"python3\"\n",
    "  }\n",
    " },\n",
    " \"nbformat\": 4,\n",
    " \"nbformat_minor\": 4\n",
    "}"
   ]
  }
 ],
 "metadata": {
  "language_info": {
   "name": "python"
  }
 },
 "nbformat": 4,
 "nbformat_minor": 5
}
