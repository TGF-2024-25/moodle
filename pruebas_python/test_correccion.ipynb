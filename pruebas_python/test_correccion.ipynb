{
 "cells": [
  {
   "cell_type": "code",
   "execution_count": null,
   "id": "e23310f4",
   "metadata": {
    "vscode": {
     "languageId": "plaintext"
    }
   },
   "outputs": [],
   "source": [
    "def saludar(nombre):\n",
    "    \"\"\"Saluda a una persona\"\"\"\n",
    "    return f\"Hola, {nombre}!\"\n",
    "\n",
    "# Tests que deben pasar\n",
    "assert saludar(\"Moodle\") == \"Hola, Moodle!\"\n",
    "assert saludar(\"Estudiante\") == \"Hola, Estudiante!\""
   ]
  }
 ],
 "metadata": {
  "language_info": {
   "name": "python"
  }
 },
 "nbformat": 4,
 "nbformat_minor": 5
}
