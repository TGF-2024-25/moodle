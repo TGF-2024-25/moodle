{
 "cells": [
  {
   "cell_type": "code",
   "execution_count": null,
   "id": "6758f8ab",
   "metadata": {
    "nbgrader": {
     "grade": true,
     "grade_id": "funcion_saludar",
     "locked": false,
     "points": 5
    }
   },
   "outputs": [],
   "source": [
    "def saludar(nombre):\n",
    "    \"\"\"Saluda a una persona\"\"\"\n",
    "    return f\"Hola, {nombre}!\"\n",
    "\n",
    "# Tests que deben pasar\n",
    "assert saludar(\"Moodle\") == \"Hola, Moodle!\"\n",
    "assert saludar(\"Estudiante\") == \"Hola, Estudiante!\"\n",
    "\n",
    "\n",
    "# Tests\n",
    "assert saludar(\"Moodle\") == \"Hola, Moodle!\"\n",
    "assert saludar(\"Estudiante\") == \"Hola, Estudiante!\"\n"
   ]
  },
  {
   "cell_type": "code",
   "execution_count": null,
   "id": "3304e0db",
   "metadata": {
    "nbgrader": {
     "grade": true,
     "grade_id": "funcion_calcular_area_rectangulo",
     "locked": false,
     "points": 5
    }
   },
   "outputs": [],
   "source": [
    "def calcular_area_rectangulo(base, altura):\n",
    "    \"\"\"Calcula el área de un rectángulo\"\"\"\n",
    "    return base * altura + 1  # ERROR: +1 sobra\n",
    "\n",
    "# Tests que deben pasar  \n",
    "assert calcular_area_rectangulo(4, 5) == 20\n",
    "assert calcular_area_rectangulo(0, 10) == 0\n",
    "assert calcular_area_rectangulo(3, 7) == 21\n",
    "\n",
    "# Tests\n",
    "assert calcular_area_rectangulo(4, 5) == 20\n",
    "assert calcular_area_rectangulo(0, 10) == 0\n",
    "assert calcular_area_rectangulo(3, 7) == 21\n"
   ]
  }
 ],
 "metadata": {},
 "nbformat": 4,
 "nbformat_minor": 5
}
