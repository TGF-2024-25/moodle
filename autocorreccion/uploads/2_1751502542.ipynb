{
 "cells": [
  {
   "cell_type": "markdown",
   "id": "dc84c6f4",
   "metadata": {},
   "source": [
    "# Parte A (2 puntos)\n",
    "Implementa una función que devuelva una lista con los cuadrados de los números de 1 a n. Lanza un ValueError si n < 1."
   ]
  },
  {
   "cell_type": "code",
   "execution_count": null,
   "id": "b7bd9185",
   "metadata": {
    "nbgrader": {
     "grade": true,
     "grade_id": "parte_a",
     "locked": false,
     "points": 2,
     "solution": true
    }
   },
   "outputs": [],
   "source": [
    "# Celda de calificación\n",
    "def cuadrados(n):\n",
    "    \"\"\"Devuelve una lista con los cuadrados de los números de 1 a n.\"\"\"\n",
    "    if n < 1:\n",
    "        raise ValueError(\"n debe ser mayor o igual que 1\")\n",
    "    return [i ** 2 for i in range(1, n + 1)]"
   ]
  },
  {
   "cell_type": "code",
   "execution_count": null,
   "id": "ec0c7dbf",
   "metadata": {
    "nbgrader": {
     "grade": false,
     "grade_id": "test_parte_a",
     "locked": true,
     "solution": false
    }
   },
   "outputs": [],
   "source": [
    "# Test automático para Parte A\n",
    "assert cuadrados(1) == [1]\n",
    "assert cuadrados(3) == [1, 4, 9]\n",
    "assert cuadrados(5) == [1, 4, 9, 16, 25]\n",
    "try:\n",
    "    cuadrados(0)\n",
    "except ValueError:\n",
    "    pass\n",
    "else:\n",
    "    raise AssertionError(\"No se lanzó ValueError con entrada inválida\")"
   ]
  },
  {
   "cell_type": "markdown",
   "id": "a385d0dc",
   "metadata": {},
   "source": [
    "# Parte B (1 punto)\n",
    "Implementa una función que devuelva la suma de los cuadrados usando la función anterior."
   ]
  },
  {
   "cell_type": "code",
   "execution_count": null,
   "id": "257ee202",
   "metadata": {
    "nbgrader": {
     "grade": true,
     "grade_id": "parte_b",
     "locked": false,
     "points": 1,
     "solution": true
    }
   },
   "outputs": [],
   "source": [
    "# Celda de calificación\n",
    "def suma_cuadrados(n):\n",
    "    \"\"\"Devuelve la suma de los cuadrados de 1 a n.\"\"\"\n",
    "    return sum(cuadrados(n))"
   ]
  },
  {
   "cell_type": "code",
   "execution_count": null,
   "id": "a6610795",
   "metadata": {
    "nbgrader": {
     "grade": false,
     "grade_id": "test_parte_b",
     "locked": true,
     "solution": false
    }
   },
   "outputs": [],
   "source": [
    "# Test automático para Parte B\n",
    "assert suma_cuadrados(1) == 1\n",
    "assert suma_cuadrados(3) == 14\n",
    "assert suma_cuadrados(5) == 55"
   ]
  }
 ],
 "metadata": {},
 "nbformat": 4,
 "nbformat_minor": 5
}
