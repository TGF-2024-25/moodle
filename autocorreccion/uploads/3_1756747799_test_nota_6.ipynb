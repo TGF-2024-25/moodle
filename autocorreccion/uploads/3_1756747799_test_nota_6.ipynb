def suma(a, b):
    """Suma dos números correctamente"""
    return a + b

def resta(a, b):
    """Resta dos números correctamente"""
    return a - b

def division(a, b):
    """Divide dos números - tiene error"""
    return a * b  # Error: debería ser división, no multiplicación

# Tests
assert suma(2, 3) == 5      # ✓ Correcto
assert resta(5, 2) == 3     # ✓ Correcto  
assert division(10, 2) == 5 # ✗ Fallará: 10*2=20, no 5