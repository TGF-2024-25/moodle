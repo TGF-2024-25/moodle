def suma(a, b):
    """Suma dos números"""
    return a + b

def resta(a, b):
    """Resta dos números"""
    return a - b

def multiplicacion(a, b):
    """Multiplica dos números"""
    return a * b

def division(a, b):
    """Divide dos números"""
    if b == 0:
        return "Error: División por cero"
    return a / b

def es_par(n):
    """Determina si un número es par"""
    return n % 2 == 0