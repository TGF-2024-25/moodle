def suma(a, b):
    return a + b

def resta(a, b):
    return a - b

# Tests
assert suma(2, 3) == 5
assert suma(10, 5) == 15
assert resta(5, 2) == 3
assert resta(10, 3) == 7