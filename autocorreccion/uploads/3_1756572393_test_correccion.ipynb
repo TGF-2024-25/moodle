{
 "cells": [
  {
   "cell_type": "code",
   "execution_count": null,
   "id": "598243c8-2a61-4770-82dc-fe801cc6cf64",
   "metadata": {
    "editable": true,
    "nbgrader": {
     "grade": true,
     "grade_id": "ejercicio_saludo",
     "locked": false,
     "points": 5,
     "schema_version": 3,
     "solution": true,
     "task": false
    },
    "slideshow": {
     "slide_type": ""
    },
    "tags": []
   },
   "outputs": [],
   "source": [
    "def saludar(nombre):\n",
    "    \"\"\"Saluda a una persona\"\"\"\n",
    "    return f\"Hola, {nombre}!\"\n",
    "\n",
    "# Tests que deben pasar\n",
    "assert saludar(\"Moodle\") == \"Hola, Moodle!\"\n",
    "assert saludar(\"Estudiante\") == \"Hola, Estudiante!\""
   ]
  },
  {
   "cell_type": "code",
   "execution_count": null,
   "id": "531bd526-c2cd-4433-babc-135f2b3147e2",
   "metadata": {
    "nbgrader": {
     "grade": true,
     "grade_id": "ejercicio_area",
     "locked": false,
     "points": 5,
     "schema_version": 3,
     "solution": true,
     "task": false
    }
   },
   "outputs": [],
   "source": [
    "def calcular_area_rectangulo(base, altura):\n",
    "    \"\"\"Calcula el área de un rectángulo\"\"\"\n",
    "    return base * altura\n",
    "\n",
    "# Tests que deben pasar  \n",
    "assert calcular_area_rectangulo(4, 5) == 20\n",
    "assert calcular_area_rectangulo(0, 10) == 0\n",
    "assert calcular_area_rectangulo(3, 7) == 21"
   ]
  }
 ],
 "metadata": {
  "kernelspec": {
   "display_name": "Python 3 (ipykernel)",
   "language": "python",
   "name": "python3"
  },
  "language_info": {
   "codemirror_mode": {
    "name": "ipython",
    "version": 3
   },
   "file_extension": ".py",
   "mimetype": "text/x-python",
   "name": "python",
   "nbconvert_exporter": "python",
   "pygments_lexer": "ipython3",
   "version": "3.8.10"
  }
 },
 "nbformat": 4,
 "nbformat_minor": 5
}
