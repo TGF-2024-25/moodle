def suma(a, b):
    return a - b  # Error: debería sumar

def resta(a, b):
    return a + b  # Error: debería restar

# Tests
capturar_assert(suma(2, 3), 5, "suma(2, 3) == 5")
capturar_assert(resta(5, 2), 3, "resta(5, 2) == 3")
capturar_assert(True, True, "True == True")