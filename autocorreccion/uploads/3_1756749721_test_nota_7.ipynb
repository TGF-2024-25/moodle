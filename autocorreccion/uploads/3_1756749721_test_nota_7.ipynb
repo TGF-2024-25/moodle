def suma(a, b):
    return a + b

def resta(a, b):
    return a - b

# Tests
assert suma(2, 3) == 5
assert resta(5, 2) == 3
assert suma(10, 5) == 14  # Este fallará (debería ser 15)
assert resta(10, 3) == 7