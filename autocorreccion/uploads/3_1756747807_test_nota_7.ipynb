def suma(a, b):
    """Suma dos números correctamente"""
    return a + b

def resta(a, b):
    """Resta dos números correctamente"""
    return a - b

def multiplicacion(a, b):
    """Multiplica dos números correctamente"""
    return a * b

# Tests que pasarán
assert suma(2, 3) == 5
assert resta(5, 2) == 3
assert multiplicacion(4, 3) == 12

# Test que fallará (para bajar la nota a ~7)
assert suma(10, 5) == 14  # Esto fallará: 10+5=15, no 14