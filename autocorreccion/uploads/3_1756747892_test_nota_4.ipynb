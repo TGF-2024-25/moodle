def suma(a, b):
    """Suma dos números - con error"""
    return a - b  # Error: debería sumar, no restar

def resta(a, b):
    """Resta dos números - con error"""
    return a + b  # Error: debería restar, no sumar

def funcion_correcta(n):
    """Función correcta"""
    return n * 2

# Tests
assert suma(2, 3) == 5          # ✗ Fallará: 2-3=-1
assert resta(5, 2) == 3         # ✗ Fallará: 5+2=7  
assert funcion_correcta(4) == 8 # ✓ Correcto