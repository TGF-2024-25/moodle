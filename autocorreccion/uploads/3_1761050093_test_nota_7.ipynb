def suma(a, b):
    return a + b

def resta(a, b):
    return a - b

def multiplicacion(a, b):
    return a * b

# Tests en líneas separadas
assert suma(2, 3) == 5
assert resta(5, 2) == 3
assert multiplicacion(4, 3) == 12
assert suma(10, 5) == 14  # Este fallará