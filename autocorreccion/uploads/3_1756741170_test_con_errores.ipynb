def suma(a, b):
    """Suma dos números - ERROR: está restando"""
    return a - b  # Error: debería sumar

def factorial(n):
    """Calcula factorial - ERROR: caso base incorrecto"""
    if n == 1:  # Error: debería ser n == 0
        return 1
    return n * factorial(n-1)

def es_par(n):
    """Verifica si es par - ERROR: lógica invertida"""
    return n % 2 != 0  # Error: debería ser == 0

# Tests (estos fallarán)
assert suma(2, 3) == 5
assert factorial(5) == 120
assert es_par(4) == True