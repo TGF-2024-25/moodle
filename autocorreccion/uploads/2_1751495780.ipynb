{
 "cells": [
  {
   "cell_type": "markdown",
   "id": "9088ebe8",
   "metadata": {},
   "source": [
    "# Part A (2 points)\n",
    "Write a function that returns a list of squares from 1 to n. Raises a ValueError if n < 1."
   ]
  },
  {
   "cell_type": "code",
   "execution_count": null,
   "id": "1a0cb7ad",
   "metadata": {
    "nbgrader": {
     "grade": true,
     "grade_id": "part_a",
     "locked": false,
     "points": 2,
     "schema_version": 3,
     "solution": true
    }
   },
   "outputs": [],
   "source": [
    "# Grade cell\n",
    "def squares(n):\n",
    "    \"\"\"Compute the squares of numbers from 1 to n, such that the ith element of the returned list equals i^2.\"\"\"\n",
    "    if n < 1:\n",
    "        raise ValueError(\"n must be greater than or equal to 1\")\n",
    "    return [i ** 2 for i in range(1, n + 1)]"
   ]
  },
  {
   "cell_type": "code",
   "execution_count": null,
   "id": "6513e568",
   "metadata": {
    "nbgrader": {
     "grade": false,
     "locked": true,
     "solution": false
    }
   },
   "outputs": [],
   "source": [
    "# Test cell\n",
    "assert squares(1) == [1]\n",
    "assert squares(2) == [1, 4]\n",
    "assert squares(10) == [1, 4, 9, 16, 25, 36, 49, 64, 81, 100]\n",
    "assert squares(11) == [1, 4, 9, 16, 25, 36, 49, 64, 81, 100, 121]\n",
    "try:\n",
    "    squares(0)\n",
    "except ValueError:\n",
    "    pass\n",
    "else:\n",
    "    raise AssertionError(\"did not raise\")\n",
    "try:\n",
    "    squares(-4)\n",
    "except ValueError:\n",
    "    pass\n",
    "else:\n",
    "    raise AssertionError(\"did not raise\")"
   ]
  },
  {
   "cell_type": "markdown",
   "id": "8e8fe8ab",
   "metadata": {},
   "source": [
    "# Part B (1 point)\n",
    "Create a function that sums the squares using the previous function."
   ]
  },
  {
   "cell_type": "code",
   "execution_count": null,
   "id": "81808afa",
   "metadata": {
    "nbgrader": {
     "grade": true,
     "grade_id": "part_b",
     "locked": false,
     "points": 1,
     "schema_version": 3,
     "solution": true
    }
   },
   "outputs": [],
   "source": [
    "# Grade cell\n",
    "def sum_of_squares(n):\n",
    "    \"\"\"Compute the sum of the squares of numbers from 1 to n.\"\"\"\n",
    "    return sum(squares(n))"
   ]
  },
  {
   "cell_type": "code",
   "execution_count": null,
   "id": "ccd7326e",
   "metadata": {
    "nbgrader": {
     "grade": false,
     "locked": true,
     "solution": false
    }
   },
   "outputs": [],
   "source": [
    "# Test cell\n",
    "assert sum_of_squares(1) == 1\n",
    "assert sum_of_squares(2) == 5\n",
    "assert sum_of_squares(10) == 385\n",
    "assert sum_of_squares(11) == 506\n",
    "orig_squares = squares\n",
    "del squares\n",
    "try:\n",
    "    sum_of_squares(1)\n",
    "except NameError:\n",
    "    pass\n",
    "else:\n",
    "    raise AssertionError(\"sum_of_squares does not use squares\")\n",
    "finally:\n",
    "    def squares(n): return [i ** 2 for i in range(1, n + 1)]"
   ]
  },
  {
   "cell_type": "markdown",
   "id": "5f467f49",
   "metadata": {},
   "source": [
    "# Part D (2 points)\n",
    "Find a use case for your sum_of_squares function and implement it."
   ]
  },
  {
   "cell_type": "code",
   "execution_count": null,
   "id": "145d0762",
   "metadata": {
    "nbgrader": {
     "grade": true,
     "grade_id": "part_d",
     "locked": false,
     "points": 2,
     "schema_version": 3,
     "solution": true
    }
   },
   "outputs": [],
   "source": [
    "# Grade cell\n",
    "def pyramidal_number(n):\n",
    "    \"\"\"Returns the n-th pyramidal number.\"\"\"\n",
    "    return sum_of_squares(n)\n",
    "assert pyramidal_number(3) == 14"
   ]
  },
  {
   "cell_type": "markdown",
   "id": "9d78f4ac",
   "metadata": {},
   "source": [
    "# Part E (4 points)\n",
    "State and verify formulas for arithmetic and geometric sums."
   ]
  },
  {
   "cell_type": "code",
   "execution_count": null,
   "id": "aba1c9b7",
   "metadata": {
    "nbgrader": {
     "grade": true,
     "grade_id": "part_e",
     "locked": false,
     "points": 4,
     "schema_version": 3,
     "solution": true
    }
   },
   "outputs": [],
   "source": [
    "# Grade cell\n",
    "def arithmetic_sum(n, a1=1, d=1):\n",
    "    return n / 2 * (2 * a1 + (n - 1) * d)\n",
    "\n",
    "def geometric_sum(n, a1=1, r=2):\n",
    "    if r == 1:\n",
    "        return a1 * n\n",
    "    return a1 * (1 - r ** n) / (1 - r)\n",
    "\n",
    "assert arithmetic_sum(100) == sum(range(1, 101))\n",
    "assert geometric_sum(5, 1, 2) == sum([1, 2, 4, 8, 16])"
   ]
  }
 ],
 "metadata": {},
 "nbformat": 4,
 "nbformat_minor": 5
}
