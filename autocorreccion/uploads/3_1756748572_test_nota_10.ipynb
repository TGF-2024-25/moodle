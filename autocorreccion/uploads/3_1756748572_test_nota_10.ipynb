def suma(a, b):
    """Suma dos números correctamente"""
    return a + b

def resta(a, b):
    """Resta dos números correctamente"""
    return a - b

# Tests que pasarán
assert suma(2, 3) == 5
assert suma(10, 5) == 15
assert resta(5, 2) == 3
assert resta(10, 3) == 7