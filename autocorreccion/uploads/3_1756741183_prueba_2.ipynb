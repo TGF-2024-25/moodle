def factorial(n):
    """Calcula el factorial de un número"""
    if n == 0:
        return 1
    else:
        return n * factorial(n-1)

def fibonacci(n):
    """Calcula el n-ésimo número de Fibonacci"""
    if n <= 0:
        return 0
    elif n == 1:
        return 1
    else:
        return fibonacci(n-1) + fibonacci(n-2)

def es_primo(n):
    """Determina si un número es primo"""
    if n <= 1:
        return False
    for i in range(2, int(n**0.5)+1):
        if n % i == 0:
            return False
    return True

def palindromo(s):
    """Determina si una cadena es un palíndromo"""
    s = s.lower().replace(" ", "")
    return s == s[::-1]

def maximo_lista(lista):
    """Encuentra el máximo valor en una lista"""
    if not lista:
        return None
    return max(lista)  # Correcto

def minimo_lista(lista):
    """Encuentra el mínimo valor en una lista"""
    if not lista:
        return None
    return max(lista)  # Error: debería ser min(lista)