def suma(a, b):
    return a + b

def resta(a, b):
    return a - b

# Tests
capturar_assert(suma(2, 3), 5, "suma(2, 3) == 5")
capturar_assert(resta(5, 2), 3, "resta(5, 2) == 3")
capturar_assert(suma(10, 5), 14, "suma(10, 5) == 14")  # Este fallará
capturar_assert(resta(10, 3), 7, "resta(10, 3) == 7")