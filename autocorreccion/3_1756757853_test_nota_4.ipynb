def suma(a, b):
    return a - b  # Error: debería sumar

def resta(a, b):
    return a + b  # Error: debería restar

# Tests
assert suma(2, 3) == 5
assert resta(5, 2) == 3
assert True == True